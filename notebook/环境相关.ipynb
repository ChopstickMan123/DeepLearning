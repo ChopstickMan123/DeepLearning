{
 "cells": [
  {
   "cell_type": "markdown",
   "id": "ce3b0e4b",
   "metadata": {},
   "source": [
    "# github 版本控制\n",
    "\n",
    "标注工具\n",
    "CVAT英特尔开元计算机视觉标注工具\n",
    "labelme\n",
    "\n",
    "# 模型开发\n",
    "\n",
    "1.确定算法\n",
    "2.logger 日志配置\n",
    "3.模型参数配置\n",
    "device = torch.device(\"cuda:0\" if torch.cuda.is_available() else \"cpu\")\n",
    "ecoch\n",
    "batchsize\n",
    "savemodelpath\n",
    "\n",
    "常用库\n",
    "xml库 解析\n",
    "glob库\n",
    "tqpm库\n",
    "typer\n",
    "\n",
    "常用函数 sort\n",
    "opencv 读取图片\n",
    "\n",
    "5.linux部署"
   ]
  },
  {
   "cell_type": "markdown",
   "id": "bbbdb2ef",
   "metadata": {},
   "source": [
    "# pip安装"
   ]
  },
  {
   "cell_type": "markdown",
   "id": "51f6c66d",
   "metadata": {},
   "source": [
    "pip install -i https://pypi.tuna.tsinghua.edu.cn/simple -U funcat\n",
    "\n",
    "-i: 指定库的安装源\n",
    "\n",
    "-U:升级 原来已经安装的包，不带U不会装新版本，带上U才会更新到最新版本。\n",
    "\n",
    "pip install visdom  -i https://pypi.tuna.tsinghua.edu.cn/simple"
   ]
  },
  {
   "cell_type": "markdown",
   "id": "ce48fec1",
   "metadata": {},
   "source": [
    "# 4.可视化\n",
    "visdom\n",
    "tensorboardX\n",
    "\n",
    "## visdom\n",
    "\n",
    "pip install visdom  -i https://pypi.tuna.tsinghua.edu.cn/simple\n",
    "\n",
    "python -m visdom.server"
   ]
  },
  {
   "cell_type": "markdown",
   "id": "56be5165",
   "metadata": {},
   "source": [
    "## tensorboardX\n",
    "\n",
    "官网资料\n",
    "\n",
    "https://pytorch.org/tutorials/intermediate/tensorboard_tutorial.html\n",
    "\n",
    "主要作用\n",
    "\n",
    "1.模型结构图\n",
    "\n",
    "2.训练中的损失，accuracy ，train loss  learning rate学习率变化等数据\n",
    "\n",
    "3.保存权重数值的分布\n",
    "\n",
    "4.保存预测图片中的信息\n",
    "\n",
    "### 一些bug的解决方案\n",
    "\n",
    "Traceback (most recent call last):\n",
    "  File \"D:/AI_Code/DeepLearning/可视化/tensorboardX/demo.py\", line 13, in <module>\n",
    "    from torch.utils.tensorboard import SummaryWriter\n",
    "  File \"C:\\ProgramData\\Anaconda3\\envs\\py37\\lib\\site-packages\\torch\\utils\\tensorboard\\__init__.py\", line 4, in <module>\n",
    "    LooseVersion = distutils.version.LooseVersion\n",
    "AttributeError: module 'distutils' has no attribute 'version'\n",
    "\n",
    "pip uninstall setuptools\n",
    "    \n",
    "pip install setuptools==59.5.0 -i https://pypi.tuna.tsinghua.edu.cn/simple\n",
    "    \n",
    "    \n",
    "ImportError: TensorBoard logging requires TensorBoard version 1.15 or above\n",
    "    \n",
    "先看下下版本，不对，升级\n",
    "    \n",
    "(py37) C:\\Users\\Administrator>pip install tb-nightly -i https://pypi.tuna.tsinghua.edu.cn/simple"
   ]
  },
  {
   "cell_type": "code",
   "execution_count": null,
   "id": "7f4a5391",
   "metadata": {},
   "outputs": [],
   "source": []
  },
  {
   "cell_type": "code",
   "execution_count": null,
   "id": "68aa8351",
   "metadata": {},
   "outputs": [],
   "source": []
  },
  {
   "cell_type": "code",
   "execution_count": null,
   "id": "5e579040",
   "metadata": {},
   "outputs": [],
   "source": []
  }
 ],
 "metadata": {
  "kernelspec": {
   "display_name": "Python 3",
   "language": "python",
   "name": "python3"
  },
  "language_info": {
   "codemirror_mode": {
    "name": "ipython",
    "version": 3
   },
   "file_extension": ".py",
   "mimetype": "text/x-python",
   "name": "python",
   "nbconvert_exporter": "python",
   "pygments_lexer": "ipython3",
   "version": "3.8.8"
  },
  "toc": {
   "base_numbering": 1,
   "nav_menu": {},
   "number_sections": true,
   "sideBar": true,
   "skip_h1_title": false,
   "title_cell": "Table of Contents",
   "title_sidebar": "Contents",
   "toc_cell": false,
   "toc_position": {
    "height": "calc(100% - 180px)",
    "left": "10px",
    "top": "150px",
    "width": "273.188px"
   },
   "toc_section_display": true,
   "toc_window_display": true
  }
 },
 "nbformat": 4,
 "nbformat_minor": 5
}
